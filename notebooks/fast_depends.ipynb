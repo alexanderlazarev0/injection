{
 "cells": [
  {
   "cell_type": "code",
   "execution_count": 23,
   "metadata": {},
   "outputs": [],
   "source": [
    "import asyncio\n",
    "from fast_depends import Depends, inject\n",
    "\n",
    "class Dependency():\n",
    "    \n",
    "    def __init__(self, a: int) -> None:\n",
    "        self.a = a\n",
    "    \n",
    "    def test(self):\n",
    "        \n",
    "        print(f\"class-dependency-{self.a}\")\n",
    "        \n",
    "        \n",
    "def dependency():\n",
    "    return Dependency(a=7)\n",
    "    \n",
    "    \n",
    "@inject\n",
    "def test(a: int = 3, d = Depends(dependency), D = Depends(Dependency)):\n",
    "    d.test()\n",
    "    D.test()\n"
   ]
  },
  {
   "cell_type": "code",
   "execution_count": 25,
   "metadata": {},
   "outputs": [
    {
     "name": "stdout",
     "output_type": "stream",
     "text": [
      "class-dependency-5\n"
     ]
    }
   ],
   "source": [
    "from typing import Optional\n",
    "\n",
    "\n",
    "class TestClass():\n",
    "    @inject\n",
    "    def __init__(self, a: Optional[int] = 5, d=Depends(Dependency), b =6) -> None:\n",
    "        self.d = d\n",
    "        \n",
    "    def test(self):\n",
    "        print(f\"class-dependency-{self.d.a}\")\n",
    "        \n",
    "TestClass(a=5).test()"
   ]
  },
  {
   "cell_type": "code",
   "execution_count": 27,
   "metadata": {},
   "outputs": [
    {
     "name": "stdout",
     "output_type": "stream",
     "text": [
      "class-dependency-7\n"
     ]
    }
   ],
   "source": [
    "TestClass(a = 7).test()"
   ]
  },
  {
   "cell_type": "code",
   "execution_count": null,
   "metadata": {},
   "outputs": [],
   "source": []
  }
 ],
 "metadata": {
  "kernelspec": {
   "display_name": ".venv",
   "language": "python",
   "name": "python3"
  },
  "language_info": {
   "codemirror_mode": {
    "name": "ipython",
    "version": 3
   },
   "file_extension": ".py",
   "mimetype": "text/x-python",
   "name": "python",
   "nbconvert_exporter": "python",
   "pygments_lexer": "ipython3",
   "version": "3.12.3"
  }
 },
 "nbformat": 4,
 "nbformat_minor": 2
}
